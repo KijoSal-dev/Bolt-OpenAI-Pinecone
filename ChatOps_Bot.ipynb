{
  "nbformat": 4,
  "nbformat_minor": 0,
  "metadata": {
    "colab": {
      "provenance": [],
      "authorship_tag": "ABX9TyNM3IoHylEQ7Tjwa7m3nc3U",
      "include_colab_link": true
    },
    "kernelspec": {
      "name": "python3",
      "display_name": "Python 3"
    },
    "language_info": {
      "name": "python"
    }
  },
  "cells": [
    {
      "cell_type": "markdown",
      "metadata": {
        "id": "view-in-github",
        "colab_type": "text"
      },
      "source": [
        "<a href=\"https://colab.research.google.com/github/KijoSal-dev/Bolt-OpenAI-Pinecone/blob/main/ChatOps_Bot.ipynb\" target=\"_parent\"><img src=\"https://colab.research.google.com/assets/colab-badge.svg\" alt=\"Open In Colab\"/></a>"
      ]
    },
    {
      "cell_type": "code",
      "execution_count": 10,
      "metadata": {
        "colab": {
          "base_uri": "https://localhost:8080/",
          "height": 249
        },
        "id": "ccHlaQNHkrIM",
        "outputId": "b6eed943-2473-49fc-ee3e-45c01dc09413"
      },
      "outputs": [
        {
          "output_type": "error",
          "ename": "KeyError",
          "evalue": "'SLACK_BOT_TOKEN'",
          "traceback": [
            "\u001b[0;31m---------------------------------------------------------------------------\u001b[0m",
            "\u001b[0;31mKeyError\u001b[0m                                  Traceback (most recent call last)",
            "\u001b[0;32m/tmp/ipython-input-10-587727116.py\u001b[0m in \u001b[0;36m<cell line: 0>\u001b[0;34m()\u001b[0m\n\u001b[1;32m      9\u001b[0m \u001b[0;31m# 1. Initialize\u001b[0m\u001b[0;34m\u001b[0m\u001b[0;34m\u001b[0m\u001b[0m\n\u001b[1;32m     10\u001b[0m \u001b[0;31m# Note: Work in progress to address the APIs in Slack and OpenAI\u001b[0m\u001b[0;34m\u001b[0m\u001b[0;34m\u001b[0m\u001b[0m\n\u001b[0;32m---> 11\u001b[0;31m app = App(token=os.environ[\"SLACK_BOT_TOKEN\"],\n\u001b[0m\u001b[1;32m     12\u001b[0m           signing_secret=os.environ[\"SLACK_SIGNING_SECRET\"])\n\u001b[1;32m     13\u001b[0m \u001b[0mclient\u001b[0m \u001b[0;34m=\u001b[0m \u001b[0mOpenAI\u001b[0m\u001b[0;34m(\u001b[0m\u001b[0mapi_key\u001b[0m\u001b[0;34m=\u001b[0m\u001b[0mos\u001b[0m\u001b[0;34m.\u001b[0m\u001b[0menviron\u001b[0m\u001b[0;34m[\u001b[0m\u001b[0;34m\"OPENAI_API_KEY\"\u001b[0m\u001b[0;34m]\u001b[0m\u001b[0;34m)\u001b[0m\u001b[0;34m\u001b[0m\u001b[0;34m\u001b[0m\u001b[0m\n",
            "\u001b[0;32m/usr/lib/python3.11/os.py\u001b[0m in \u001b[0;36m__getitem__\u001b[0;34m(self, key)\u001b[0m\n",
            "\u001b[0;31mKeyError\u001b[0m: 'SLACK_BOT_TOKEN'"
          ]
        }
      ],
      "source": [
        "# 2.3.1 Install\n",
        "# pip install slack_bolt openai pinecone\n",
        "\n",
        "import os\n",
        "from slack_bolt import App\n",
        "from openai import OpenAI\n",
        "import pinecone\n",
        "\n",
        "# 1. Initialize\n",
        "# Note: Work in progress to address the APIs in Slack and OpenAI\n",
        "app = App(token=os.environ[\"SLACK_BOT_TOKEN\"],\n",
        "          signing_secret=os.environ[\"SLACK_SIGNING_SECRET\"])\n",
        "client = OpenAI(api_key=os.environ[\"OPENAI_API_KEY\"])\n",
        "pinecone.init(api_key=os.environ[\"PINECONE_API_KEY\"],\n",
        "              environment=\"us-west1-gcp\")\n",
        "index = pinecone.Index(\"code-snippets\")\n",
        "\n",
        "# 2. Helper to get embeddings\n",
        "def embed(text):\n",
        "    resp = client.embeddings.create(\n",
        "        model=\"text-embedding-ada-002\",\n",
        "        input=text\n",
        "    )\n",
        "    return resp.data[0].embedding\n",
        "\n",
        "# 3. Slash command handler\n",
        "@app.command(\"/codesearch\")\n",
        "def handle_codesearch(ack, body, respond):\n",
        "    ack()\n",
        "    query = body[\"text\"]\n",
        "    q_emb  = embed(query)              # 3.1 embed user query\n",
        "    res    = index.query(q_emb, top_k=3, include_metadata=True)\n",
        "    # 3.2 Format top-3 results\n",
        "    msg = \"*Top 3 code matches:*\\n\"\n",
        "    for match in res.matches:\n",
        "        path = match.metadata[\"path\"]\n",
        "        snippet = match.metadata[\"snippet\"]\n",
        "        msg += f\"> *{path}*\\n```{snippet}```\\n\"\n",
        "    respond(msg)\n",
        "\n",
        "# 4. Start the app\n",
        "if __name__ == \"__main__\":\n",
        "    app.start(port=int(os.environ.get(\"PORT\", 3000)))"
      ]
    },
    {
      "cell_type": "code",
      "metadata": {
        "id": "5c53b98c"
      },
      "source": [
        "!pip install slack_bolt openai pinecone"
      ],
      "execution_count": null,
      "outputs": []
    }
  ]
}